{
 "cells": [
  {
   "cell_type": "markdown",
   "metadata": {},
   "source": [
    "## Sample Table Dataset"
   ]
  },
  {
   "cell_type": "code",
   "execution_count": 206,
   "metadata": {
    "id": "YvlYLsqd4g0F"
   },
   "outputs": [],
   "source": [
    "import numpy as np\n",
    "import pandas as pd\n",
    "import matplotlib.pyplot as plt\n",
    "from sklearn.model_selection import train_test_split\n",
    "from sklearn.tree import DecisionTreeClassifier\n",
    "from sklearn.metrics import accuracy_score\n",
    "from sklearn import tree\n",
    "from pprint import pprint"
   ]
  },
  {
   "cell_type": "code",
   "execution_count": 207,
   "metadata": {
    "id": "PKeqL7iYIwb4"
   },
   "outputs": [],
   "source": [
    "data = {'ER': [1, 1, 0, 0, 0, 0, 1, 0, 0, 1, 1, 0, 0, 1], \n",
    "        'FH': [1, 1, 0, 1, 1, 0, 0, 1, 0, 0, 1, 1, 0, 0],\n",
    "        'S':  [0, 1, 1, 1, 1, 1, 0, 0, 1, 0, 1, 1, 0, 0],\n",
    "        'LC': [0, 0, 0, 0, 0, 1, 0, 1, 0, 0, 0, 1, 0, 1],\n",
    "        'LH': [1, 1, 0, 1, 0, 1, 1, 1, 1, 0, 0, 1, 1, 0],\n",
    "        'A':  [1, 1, 0, 0, 1, 1, 0, 1, 1, 0, 1, 0, 0, 1]}  \n",
    "df = pd.DataFrame(data)  \n",
    "target = \"A\""
   ]
  },
  {
   "cell_type": "code",
   "execution_count": 208,
   "metadata": {
    "colab": {
     "base_uri": "https://localhost:8080/",
     "height": 203
    },
    "id": "hkLS9XDWKYZ2",
    "outputId": "d27cedb8-61a6-4919-d2b2-834101e02d23"
   },
   "outputs": [
    {
     "data": {
      "text/html": [
       "<div>\n",
       "<style scoped>\n",
       "    .dataframe tbody tr th:only-of-type {\n",
       "        vertical-align: middle;\n",
       "    }\n",
       "\n",
       "    .dataframe tbody tr th {\n",
       "        vertical-align: top;\n",
       "    }\n",
       "\n",
       "    .dataframe thead th {\n",
       "        text-align: right;\n",
       "    }\n",
       "</style>\n",
       "<table border=\"1\" class=\"dataframe\">\n",
       "  <thead>\n",
       "    <tr style=\"text-align: right;\">\n",
       "      <th></th>\n",
       "      <th>ER</th>\n",
       "      <th>FH</th>\n",
       "      <th>S</th>\n",
       "      <th>LC</th>\n",
       "      <th>LH</th>\n",
       "      <th>A</th>\n",
       "    </tr>\n",
       "  </thead>\n",
       "  <tbody>\n",
       "    <tr>\n",
       "      <td>0</td>\n",
       "      <td>1</td>\n",
       "      <td>1</td>\n",
       "      <td>0</td>\n",
       "      <td>0</td>\n",
       "      <td>1</td>\n",
       "      <td>1</td>\n",
       "    </tr>\n",
       "    <tr>\n",
       "      <td>1</td>\n",
       "      <td>1</td>\n",
       "      <td>1</td>\n",
       "      <td>1</td>\n",
       "      <td>0</td>\n",
       "      <td>1</td>\n",
       "      <td>1</td>\n",
       "    </tr>\n",
       "    <tr>\n",
       "      <td>2</td>\n",
       "      <td>0</td>\n",
       "      <td>0</td>\n",
       "      <td>1</td>\n",
       "      <td>0</td>\n",
       "      <td>0</td>\n",
       "      <td>0</td>\n",
       "    </tr>\n",
       "    <tr>\n",
       "      <td>3</td>\n",
       "      <td>0</td>\n",
       "      <td>1</td>\n",
       "      <td>1</td>\n",
       "      <td>0</td>\n",
       "      <td>1</td>\n",
       "      <td>0</td>\n",
       "    </tr>\n",
       "    <tr>\n",
       "      <td>4</td>\n",
       "      <td>0</td>\n",
       "      <td>1</td>\n",
       "      <td>1</td>\n",
       "      <td>0</td>\n",
       "      <td>0</td>\n",
       "      <td>1</td>\n",
       "    </tr>\n",
       "  </tbody>\n",
       "</table>\n",
       "</div>"
      ],
      "text/plain": [
       "   ER  FH  S  LC  LH  A\n",
       "0   1   1  0   0   1  1\n",
       "1   1   1  1   0   1  1\n",
       "2   0   0  1   0   0  0\n",
       "3   0   1  1   0   1  0\n",
       "4   0   1  1   0   0  1"
      ]
     },
     "execution_count": 208,
     "metadata": {},
     "output_type": "execute_result"
    }
   ],
   "source": [
    "df.head()"
   ]
  },
  {
   "cell_type": "code",
   "execution_count": 209,
   "metadata": {
    "colab": {
     "base_uri": "https://localhost:8080/"
    },
    "id": "cQeBvOcLctmz",
    "outputId": "bb0af9b2-c365-48bf-a204-384a773cb47a"
   },
   "outputs": [
    {
     "data": {
      "text/plain": [
       "(14, 6)"
      ]
     },
     "execution_count": 209,
     "metadata": {},
     "output_type": "execute_result"
    }
   ],
   "source": [
    "df.shape"
   ]
  },
  {
   "cell_type": "code",
   "execution_count": 210,
   "metadata": {
    "colab": {
     "base_uri": "https://localhost:8080/"
    },
    "id": "kDfcnzGZcM-I",
    "outputId": "91e53880-c2a1-49ac-e059-1fb4effa9036"
   },
   "outputs": [
    {
     "name": "stdout",
     "output_type": "stream",
     "text": [
      "    ER  FH  S  LC  LH  A\n",
      "0    1   1  0   0   1  1\n",
      "1    1   1  1   0   1  1\n",
      "2    0   0  1   0   0  0\n",
      "3    0   1  1   0   1  0\n",
      "4    0   1  1   0   0  1\n",
      "5    0   0  1   1   1  1\n",
      "6    1   0  0   0   1  0\n",
      "7    0   1  0   1   1  1\n",
      "8    0   0  1   0   1  1\n",
      "9    1   0  0   0   0  0\n",
      "10   1   1  1   0   0  1\n",
      "11   0   1  1   1   1  0\n",
      "12   0   0  0   0   1  0\n",
      "13   1   0  0   1   0  1\n"
     ]
    }
   ],
   "source": [
    "print(df)"
   ]
  },
  {
   "cell_type": "code",
   "execution_count": 211,
   "metadata": {
    "id": "BLvl-k8McQ5y"
   },
   "outputs": [],
   "source": [
    "X = df.drop(['A'], axis=1)\n",
    "\n",
    "y = df['A']"
   ]
  },
  {
   "cell_type": "code",
   "execution_count": 212,
   "metadata": {
    "id": "0MBm7WR5cXAa"
   },
   "outputs": [],
   "source": [
    "X_train, X_test, y_train, y_test = train_test_split(X, y, test_size = 0.25, random_state = 42)"
   ]
  },
  {
   "cell_type": "code",
   "execution_count": 213,
   "metadata": {
    "colab": {
     "base_uri": "https://localhost:8080/"
    },
    "id": "puD8XqULdIWd",
    "outputId": "28bdcab1-72b4-4b07-a7d8-4ce874df7e03"
   },
   "outputs": [
    {
     "data": {
      "text/plain": [
       "((10, 5), (4, 5))"
      ]
     },
     "execution_count": 213,
     "metadata": {},
     "output_type": "execute_result"
    }
   ],
   "source": [
    "X_train.shape, X_test.shape"
   ]
  },
  {
   "cell_type": "code",
   "execution_count": 214,
   "metadata": {
    "colab": {
     "base_uri": "https://localhost:8080/",
     "height": 203
    },
    "id": "00kkLwpidJHS",
    "outputId": "ac03f2b2-348c-4f71-928d-d7875f24bc55"
   },
   "outputs": [
    {
     "data": {
      "text/html": [
       "<div>\n",
       "<style scoped>\n",
       "    .dataframe tbody tr th:only-of-type {\n",
       "        vertical-align: middle;\n",
       "    }\n",
       "\n",
       "    .dataframe tbody tr th {\n",
       "        vertical-align: top;\n",
       "    }\n",
       "\n",
       "    .dataframe thead th {\n",
       "        text-align: right;\n",
       "    }\n",
       "</style>\n",
       "<table border=\"1\" class=\"dataframe\">\n",
       "  <thead>\n",
       "    <tr style=\"text-align: right;\">\n",
       "      <th></th>\n",
       "      <th>ER</th>\n",
       "      <th>FH</th>\n",
       "      <th>S</th>\n",
       "      <th>LC</th>\n",
       "      <th>LH</th>\n",
       "    </tr>\n",
       "  </thead>\n",
       "  <tbody>\n",
       "    <tr>\n",
       "      <td>5</td>\n",
       "      <td>0</td>\n",
       "      <td>0</td>\n",
       "      <td>1</td>\n",
       "      <td>1</td>\n",
       "      <td>1</td>\n",
       "    </tr>\n",
       "    <tr>\n",
       "      <td>8</td>\n",
       "      <td>0</td>\n",
       "      <td>0</td>\n",
       "      <td>1</td>\n",
       "      <td>0</td>\n",
       "      <td>1</td>\n",
       "    </tr>\n",
       "    <tr>\n",
       "      <td>2</td>\n",
       "      <td>0</td>\n",
       "      <td>0</td>\n",
       "      <td>1</td>\n",
       "      <td>0</td>\n",
       "      <td>0</td>\n",
       "    </tr>\n",
       "    <tr>\n",
       "      <td>1</td>\n",
       "      <td>1</td>\n",
       "      <td>1</td>\n",
       "      <td>1</td>\n",
       "      <td>0</td>\n",
       "      <td>1</td>\n",
       "    </tr>\n",
       "    <tr>\n",
       "      <td>13</td>\n",
       "      <td>1</td>\n",
       "      <td>0</td>\n",
       "      <td>0</td>\n",
       "      <td>1</td>\n",
       "      <td>0</td>\n",
       "    </tr>\n",
       "  </tbody>\n",
       "</table>\n",
       "</div>"
      ],
      "text/plain": [
       "    ER  FH  S  LC  LH\n",
       "5    0   0  1   1   1\n",
       "8    0   0  1   0   1\n",
       "2    0   0  1   0   0\n",
       "1    1   1  1   0   1\n",
       "13   1   0  0   1   0"
      ]
     },
     "execution_count": 214,
     "metadata": {},
     "output_type": "execute_result"
    }
   ],
   "source": [
    "X_train.head()"
   ]
  },
  {
   "cell_type": "code",
   "execution_count": 215,
   "metadata": {
    "colab": {
     "base_uri": "https://localhost:8080/"
    },
    "id": "WOjpwvhVdMDA",
    "outputId": "4f59f08a-b2ed-4986-8153-b80b7e3097c6"
   },
   "outputs": [
    {
     "data": {
      "text/plain": [
       "DecisionTreeClassifier(class_weight=None, criterion='entropy', max_depth=3,\n",
       "                       max_features=None, max_leaf_nodes=None,\n",
       "                       min_impurity_decrease=0.0, min_impurity_split=None,\n",
       "                       min_samples_leaf=1, min_samples_split=2,\n",
       "                       min_weight_fraction_leaf=0.0, presort=False,\n",
       "                       random_state=0, splitter='best')"
      ]
     },
     "execution_count": 215,
     "metadata": {},
     "output_type": "execute_result"
    }
   ],
   "source": [
    "clf_en = DecisionTreeClassifier(criterion='entropy', max_depth=3, random_state=0)\n",
    "\n",
    "clf_en.fit(X_train, y_train)"
   ]
  },
  {
   "cell_type": "code",
   "execution_count": 216,
   "metadata": {
    "id": "IiSpRF15dUXt"
   },
   "outputs": [],
   "source": [
    "y_pred_en = clf_en.predict(X_test)"
   ]
  },
  {
   "cell_type": "code",
   "execution_count": 217,
   "metadata": {
    "colab": {
     "base_uri": "https://localhost:8080/"
    },
    "id": "ukfZAoIQdZ0m",
    "outputId": "53ca4c22-0a4f-4313-f84b-4065c4e486e2"
   },
   "outputs": [
    {
     "name": "stdout",
     "output_type": "stream",
     "text": [
      "Model accuracy score with criterion entropy: 0.5000\n"
     ]
    }
   ],
   "source": [
    "print('Model accuracy score with criterion entropy: {0:0.4f}'. format(accuracy_score(y_test, y_pred_en)))"
   ]
  },
  {
   "cell_type": "code",
   "execution_count": 218,
   "metadata": {
    "id": "e00vyejCdiot"
   },
   "outputs": [],
   "source": [
    "y_pred_train_en = clf_en.predict(X_train)\n"
   ]
  },
  {
   "cell_type": "code",
   "execution_count": 219,
   "metadata": {
    "colab": {
     "base_uri": "https://localhost:8080/"
    },
    "id": "6dYxgxwOdl77",
    "outputId": "b424ae87-953e-4148-f681-95a029375472"
   },
   "outputs": [
    {
     "name": "stdout",
     "output_type": "stream",
     "text": [
      "Training set score: 0.8000\n",
      "Test set score: 0.5000\n"
     ]
    }
   ],
   "source": [
    "print('Training set score: {:.4f}'.format(clf_en.score(X_train, y_train)))\n",
    "\n",
    "print('Test set score: {:.4f}'.format(clf_en.score(X_test, y_test)))"
   ]
  },
  {
   "cell_type": "code",
   "execution_count": 220,
   "metadata": {
    "colab": {
     "base_uri": "https://localhost:8080/",
     "height": 660
    },
    "id": "yLS9VHEKdojo",
    "outputId": "a76ad1f2-4c5f-4d4d-8963-45ba2d8e57d5"
   },
   "outputs": [
    {
     "data": {
      "text/plain": [
       "[Text(372.0, 380.52, 'X[1] <= 0.5\\nentropy = 0.985\\nsamples = 14\\nvalue = [6, 8]'),\n",
       " Text(223.20000000000002, 271.8, 'X[3] <= 0.5\\nentropy = 0.985\\nsamples = 7\\nvalue = [4, 3]'),\n",
       " Text(148.8, 163.07999999999998, 'X[2] <= 0.5\\nentropy = 0.722\\nsamples = 5\\nvalue = [4, 1]'),\n",
       " Text(74.4, 54.360000000000014, 'entropy = 0.0\\nsamples = 3\\nvalue = [3, 0]'),\n",
       " Text(223.20000000000002, 54.360000000000014, 'entropy = 1.0\\nsamples = 2\\nvalue = [1, 1]'),\n",
       " Text(297.6, 163.07999999999998, 'entropy = 0.0\\nsamples = 2\\nvalue = [0, 2]'),\n",
       " Text(520.8000000000001, 271.8, 'X[0] <= 0.5\\nentropy = 0.863\\nsamples = 7\\nvalue = [2, 5]'),\n",
       " Text(446.40000000000003, 163.07999999999998, 'X[4] <= 0.5\\nentropy = 1.0\\nsamples = 4\\nvalue = [2, 2]'),\n",
       " Text(372.0, 54.360000000000014, 'entropy = 0.0\\nsamples = 1\\nvalue = [0, 1]'),\n",
       " Text(520.8000000000001, 54.360000000000014, 'entropy = 0.918\\nsamples = 3\\nvalue = [2, 1]'),\n",
       " Text(595.2, 163.07999999999998, 'entropy = 0.0\\nsamples = 3\\nvalue = [0, 3]')]"
      ]
     },
     "execution_count": 220,
     "metadata": {},
     "output_type": "execute_result"
    },
    {
     "data": {
      "image/png": "[encoded data removed]",
      "text/plain": [
       "<Figure size 864x576 with 1 Axes>"
      ]
     },
     "metadata": {
      "needs_background": "light"
     },
     "output_type": "display_data"
    }
   ],
   "source": [
    "plt.figure(figsize=(12,8))\n",
    "\n",
    "tree.plot_tree(clf_en.fit(X, y)) "
   ]
  },
  {
   "cell_type": "markdown",
   "metadata": {
    "id": "iU4QG75znuzE"
   },
   "source": [
    "Calculate Entropy of column"
   ]
  },
  {
   "cell_type": "code",
   "execution_count": 221,
   "metadata": {
    "colab": {
     "base_uri": "https://localhost:8080/"
    },
    "id": "RPu-7EQRnKWC",
    "outputId": "694b3d43-9e9f-44bc-c2d8-1085e88d96b8"
   },
   "outputs": [
    {
     "data": {
      "text/plain": [
       "0.9852281360342515"
      ]
     },
     "execution_count": 221,
     "metadata": {},
     "output_type": "execute_result"
    }
   ],
   "source": [
    "def entropy(target_col):\n",
    "    elements,counts = np.unique(target_col,return_counts = True)\n",
    "    entropy = np.sum([(-counts[i]/np.sum(counts))*np.log2(counts[i]/np.sum(counts)) for i in range(len(elements))])\n",
    "    return entropy\n",
    "entropy(df[\"A\"])"
   ]
  },
  {
   "cell_type": "markdown",
   "metadata": {},
   "source": [
    "Calculate the information gain of a dataset. This function takes three parameters:\n",
    "1. data = The dataset for whose feature the IG should be calculated\n",
    "2. split_attribute_name = the name of the feature for which the information gain should be calculated\n",
    "3. target_name = the name of the target feature. The default for this example is \"class\"\n",
    "    \n",
    "Calculate the entropy of the total dataset\n",
    "Calculate the entropy of the dataset\n",
    "Calculate the values and the corresponding counts for the split attribute \n",
    "Calculate the weighted entropy\n",
    "Calculate the information gain"
   ]
  },
  {
   "cell_type": "code",
   "execution_count": 222,
   "metadata": {
    "colab": {
     "base_uri": "https://localhost:8080/"
    },
    "id": "7379eb75",
    "outputId": "d863402f-2a81-462f-a1e8-613120510856"
   },
   "outputs": [
    {
     "data": {
      "text/plain": [
       "1.0"
      ]
     },
     "execution_count": 222,
     "metadata": {},
     "output_type": "execute_result"
    }
   ],
   "source": [
    "def InfoGain(data,split_attribute_name,target_name=target):\n",
    "\n",
    "    total_entropy = entropy(data[target_name])\n",
    "    \n",
    "\n",
    "    vals,counts= np.unique(data[split_attribute_name],return_counts=True)\n",
    "    \n",
    "    Weighted_Entropy = np.sum([(counts[i]/np.sum(counts))*entropy(data.where(data[split_attribute_name]==vals[i]).dropna()[target_name]) for i in range(len(vals))])\n",
    "    \n",
    "    Information_Gain = total_entropy - Weighted_Entropy\n",
    "    return Information_Gain\n",
    "entropy(df)"
   ]
  },
  {
   "cell_type": "code",
   "execution_count": 223,
   "metadata": {
    "colab": {
     "base_uri": "https://localhost:8080/",
     "height": 578
    },
    "id": "2O2suNQ6pSzW",
    "outputId": "1bd9e6dd-5836-4172-fc21-3d5d81229ddf"
   },
   "outputs": [],
   "source": [
    "def ID3(data,originaldata,features,target_attribute_name=target,parent_node_class = None):\n",
    "\n",
    "\n",
    "    if len(np.unique(data[target_attribute_name])) <= 1:\n",
    "        return np.unique(data[target_attribute_name])[0]\n",
    "    \n",
    "    elif len(data)==0:\n",
    "        return np.unique(originaldata[target_attribute_name])[np.argmax(np.unique(originaldata[target_attribute_name],return_counts=True)[1])]\n",
    "    \n",
    "\n",
    "    elif len(features) ==0:\n",
    "        return parent_node_class\n",
    "    \n",
    "    \n",
    "    else:\n",
    "        parent_node_class = np.unique(data[target_attribute_name])[np.argmax(np.unique(data[target_attribute_name],return_counts=True)[1])]\n",
    "        \n",
    "        item_values = [InfoGain(data,feature,target_attribute_name) for feature in features] #Return the information gain values for the features in the dataset\n",
    "        best_feature_index = np.argmax(item_values)\n",
    "\n",
    "        best_feature = features[best_feature_index]\n",
    "        \n",
    "        tree = {best_feature:{}}\n",
    "                \n",
    "        features = [i for i in features if i != best_feature]                \n",
    "        \n",
    "        for value in np.unique(data[best_feature]):\n",
    "            value = value\n",
    "            \n",
    "            sub_data = data.where(data[best_feature] == value).dropna()\n",
    "                        \n",
    "            subtree = ID3(sub_data,data,features,target_attribute_name,parent_node_class)\n",
    "            \n",
    "            tree[best_feature][value] = subtree\n",
    "            \n",
    "        return(tree)   \n",
    "\n"
   ]
  },
  {
   "cell_type": "code",
   "execution_count": 232,
   "metadata": {},
   "outputs": [],
   "source": [
    "def GainRatio(data,split_attribute_name,target_name=target):\n",
    "    InformationGain = InfoGain(data,split_attribute_name,target_name=target)\n",
    "    \n",
    "    #Calculate splitInfo\n",
    "    elements,counts = np.unique(data[target_name],return_counts = True)\n",
    "    splitInfo = np.sum([(-counts[i]/len(data))*np.log2(counts[i]/len(data)) for i in range(len(elements))])\n",
    "    \n",
    "    gainRatio = InformationGain/splitInfo\n",
    "    return gainRatio"
   ]
  },
  {
   "cell_type": "code",
   "execution_count": 225,
   "metadata": {},
   "outputs": [],
   "source": [
    "def C4(data,originaldata,features,target_attribute_name=target,parent_node_class = None):\n",
    "\n",
    "    if len(np.unique(data[target_attribute_name])) <= 1:\n",
    "        return np.unique(data[target_attribute_name])[0]\n",
    "    \n",
    "    elif len(data)==0:\n",
    "        return np.unique(originaldata[target_attribute_name])[np.argmax(np.unique(originaldata[target_attribute_name],return_counts=True)[1])]\n",
    "        \n",
    "    elif len(features) ==0:\n",
    "        return parent_node_class\n",
    "        \n",
    "    else:\n",
    "        parent_node_class = np.unique(data[target_attribute_name])[np.argmax(np.unique(data[target_attribute_name],return_counts=True)[1])]\n",
    "        \n",
    "        item_values = [GainRatio(data,feature,target_attribute_name) for feature in features] #Return the Gain Ratio values for the features in the dataset\n",
    "        best_feature_index = np.argmax(item_values)\n",
    "        best_feature = features[best_feature_index]\n",
    "\n",
    "        tree = {best_feature:{}}\n",
    "        \n",
    "        features = [i for i in features if i != best_feature]\n",
    "                \n",
    "        for value in np.unique(data[best_feature]):\n",
    "            value = value\n",
    "            sub_data = data.where(data[best_feature] == value).dropna()\n",
    "            \n",
    "            subtree = C4(sub_data,data,features,target_attribute_name,parent_node_class)\n",
    "            \n",
    "            tree[best_feature][value] = subtree\n",
    "            \n",
    "        return(tree)   "
   ]
  },
  {
   "cell_type": "code",
   "execution_count": 226,
   "metadata": {
    "id": "ljYFwzxkp5Mv"
   },
   "outputs": [],
   "source": [
    "def predict(query,tree,default = 1):\n",
    "\n",
    "    for key in list(query.keys()):\n",
    "        if key in list(tree.keys()):\n",
    "            try:\n",
    "                result = tree[key][query[key]] \n",
    "            except:\n",
    "                return default\n",
    "  \n",
    "            result = tree[key][query[key]]\n",
    "            if isinstance(result,dict):\n",
    "                return predict(query,result)\n",
    "\n",
    "            else:\n",
    "                return result"
   ]
  },
  {
   "cell_type": "code",
   "execution_count": 227,
   "metadata": {
    "id": "RtrPozBmqfrZ"
   },
   "outputs": [
    {
     "name": "stdout",
     "output_type": "stream",
     "text": [
      "   ER  FH  S  LC  LH  A\n",
      "0   1   1  0   0   1  1\n",
      "1   1   1  1   0   1  1\n",
      "2   0   0  1   0   0  0\n",
      "3   0   1  1   0   1  0\n",
      "4   0   1  1   0   0  1\n",
      "5   0   0  1   1   1  1\n",
      "6   1   0  0   0   1  0\n",
      "7   0   1  0   1   1  1\n",
      "8   0   0  1   0   1  1\n",
      "9   1   0  0   0   0  0 \n",
      "    ER  FH  S  LC  LH  A\n",
      "0   1   1  1   0   0  1\n",
      "1   0   1  1   1   1  0\n",
      "2   0   0  0   0   1  0\n",
      "3   1   0  0   1   0  1\n",
      "{'ER': [1, 1, 0, 0, 0, 0, 1, 0, 0, 1, 1, 0, 0, 1], 'FH': [1, 1, 0, 1, 1, 0, 0, 1, 0, 0, 1, 1, 0, 0], 'S': [0, 1, 1, 1, 1, 1, 0, 0, 1, 0, 1, 1, 0, 0], 'LC': [0, 0, 0, 0, 0, 1, 0, 1, 0, 0, 0, 1, 0, 1], 'LH': [1, 1, 0, 1, 0, 1, 1, 1, 1, 0, 0, 1, 1, 0], 'A': [1, 1, 0, 0, 1, 1, 0, 1, 1, 0, 1, 0, 0, 1]}\n"
     ]
    }
   ],
   "source": [
    "def train_test_split(dataset):\n",
    "    training_data = dataset.iloc[:10].reset_index(drop=True)\n",
    "    testing_data = dataset.iloc[10:].reset_index(drop=True)\n",
    "    return training_data,testing_data\n",
    "\n",
    "training_data = train_test_split(df)[0]\n",
    "testing_data = train_test_split(df)[1] \n",
    "print(training_data,'\\n', testing_data)\n",
    "print(data) "
   ]
  },
  {
   "cell_type": "code",
   "execution_count": 228,
   "metadata": {
    "id": "mhDM8rccqhmU"
   },
   "outputs": [],
   "source": [
    "def test(data,tree):\n",
    "    queries = data.iloc[:,:-1].to_dict(orient = \"records\")\n",
    "    \n",
    "    predicted = pd.DataFrame(columns=[\"predicted\"]) \n",
    "    \n",
    "    for i in range(len(data)):\n",
    "        predicted.loc[i,\"predicted\"] = predict(queries[i],tree,1.0) \n",
    "    print('The prediction accuracy is: ',(np.sum(predicted[\"predicted\"] == data[target])/len(data))*100,'%')"
   ]
  },
  {
   "cell_type": "code",
   "execution_count": 229,
   "metadata": {
    "colab": {
     "base_uri": "https://localhost:8080/",
     "height": 367
    },
    "id": "S84TFtp3w-Px",
    "outputId": "e1b4ae2a-4929-4937-fe44-4b5a2e0e2689"
   },
   "outputs": [
    {
     "name": "stdout",
     "output_type": "stream",
     "text": [
      "{'LC': {0: {'FH': {0.0: {'ER': {0.0: {'LH': {0.0: 0.0, 1.0: 1.0}}, 1.0: 0.0}},\n",
      "                   1.0: {'ER': {0.0: {'LH': {0.0: 1.0, 1.0: 0.0}}, 1.0: 1.0}}}},\n",
      "        1: 1.0}}\n",
      "The prediction accuracy is:  50.0 %\n"
     ]
    }
   ],
   "source": [
    "tree = ID3(training_data,training_data,training_data.columns[:-1])\n",
    "pprint(tree)\n",
    "test(testing_data,tree)"
   ]
  },
  {
   "cell_type": "code",
   "execution_count": 230,
   "metadata": {},
   "outputs": [
    {
     "name": "stdout",
     "output_type": "stream",
     "text": [
      "{'LC': {0: {'FH': {0.0: {'ER': {0.0: {'LH': {0.0: 0.0, 1.0: 1.0}}, 1.0: 0.0}},\n",
      "                   1.0: {'ER': {0.0: {'LH': {0.0: 1.0, 1.0: 0.0}}, 1.0: 1.0}}}},\n",
      "        1: 1.0}}\n",
      "The prediction accuracy is:  50.0 %\n"
     ]
    }
   ],
   "source": [
    "tree = C4(training_data,training_data,training_data.columns[:-1])\n",
    "pprint(tree)\n",
    "test(testing_data,tree)"
   ]
  },
  {
   "cell_type": "code",
   "execution_count": null,
   "metadata": {},
   "outputs": [],
   "source": []
  }
 ],
 "metadata": {
  "colab": {
   "collapsed_sections": [],
   "name": "ID3 Tree.ipynb",
   "provenance": []
  },
  "kernelspec": {
   "display_name": "Python 3",
   "language": "python",
   "name": "python3"
  },
  "language_info": {
   "codemirror_mode": {
    "name": "ipython",
    "version": 3
   },
   "file_extension": ".py",
   "mimetype": "text/x-python",
   "name": "python",
   "nbconvert_exporter": "python",
   "pygments_lexer": "ipython3",
   "version": "3.7.4"
  }
 },
 "nbformat": 4,
 "nbformat_minor": 1
}
